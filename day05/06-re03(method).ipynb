{
 "cells": [
  {
   "cell_type": "markdown",
   "metadata": {},
   "source": [
    "# 正则项学习——正则方法\n",
    "\n",
    "match     从头匹配  匹配一次\n",
    "\n",
    "search    从任意位置 匹配一次\n",
    "\n",
    "findall   查找符合正则的 内容  返回是列表  （在爬虫中使用最多，要抓取数据的）\n",
    "\n",
    "\n",
    "sub       替换字符串\n",
    "\n",
    "split     拆分"
   ]
  },
  {
   "cell_type": "code",
   "execution_count": 18,
   "metadata": {},
   "outputs": [],
   "source": [
    "import re\n",
    "\n",
    "one = 'abc 123'\n",
    "\n",
    "# 正则项\n",
    "pattern = re.compile('\\d+')   #+号匹配1次或无限次\n"
   ]
  },
  {
   "cell_type": "code",
   "execution_count": 19,
   "metadata": {},
   "outputs": [
    {
     "name": "stdout",
     "output_type": "stream",
     "text": [
      "Match: \n",
      " None\n"
     ]
    }
   ],
   "source": [
    "#1  match 从头匹配 匹配一次\n",
    "\n",
    "result = pattern.match(one)\n",
    "\n",
    "print('Match: \\n',result)"
   ]
  },
  {
   "cell_type": "markdown",
   "metadata": {},
   "source": [
    "返回 None ，是因为字符串开头不是数字"
   ]
  },
  {
   "cell_type": "code",
   "execution_count": 21,
   "metadata": {},
   "outputs": [
    {
     "name": "stdout",
     "output_type": "stream",
     "text": [
      "Searh: \n",
      " <re.Match object; span=(4, 7), match='123'>\n",
      "123\n"
     ]
    }
   ],
   "source": [
    "# 2 search 从任意位置匹配  匹配一次\n",
    "\n",
    "result = pattern.search(one)\n",
    "print('Searh: \\n',result)\n",
    "\n",
    "print(result.group())"
   ]
  },
  {
   "cell_type": "code",
   "execution_count": 23,
   "metadata": {},
   "outputs": [
    {
     "name": "stdout",
     "output_type": "stream",
     "text": [
      "Findall: \n",
      " ['123']\n"
     ]
    }
   ],
   "source": [
    "# findall   查找符合正则的 内容  返回是列表  （在爬虫中使用最多，要抓取数据的）\n",
    "\n",
    "result = pattern.findall(one)\n",
    "print('Findall: \\n',result)"
   ]
  },
  {
   "cell_type": "code",
   "execution_count": 24,
   "metadata": {},
   "outputs": [
    {
     "name": "stdout",
     "output_type": "stream",
     "text": [
      "Sub(替换数字): \n",
      " abc *\n"
     ]
    }
   ],
   "source": [
    "# sub       替换字符串  用星号 * 去替换数字\n",
    "\n",
    "result = pattern.sub('*',one)\n",
    "print('Sub(替换数字): \\n',result)"
   ]
  },
  {
   "cell_type": "code",
   "execution_count": 25,
   "metadata": {},
   "outputs": [
    {
     "name": "stdout",
     "output_type": "stream",
     "text": [
      "Split(拆分): \n",
      " ['abc', '123']\n"
     ]
    }
   ],
   "source": [
    "# split     拆分\n",
    "# 重新构建正则规则\n",
    "\n",
    "pattern = re.compile(' ')\n",
    "result = pattern.split(one)\n",
    "print('Split(拆分): \\n',result)"
   ]
  },
  {
   "cell_type": "code",
   "execution_count": null,
   "metadata": {},
   "outputs": [],
   "source": []
  }
 ],
 "metadata": {
  "kernelspec": {
   "display_name": "Python 3",
   "language": "python",
   "name": "python3"
  },
  "language_info": {
   "codemirror_mode": {
    "name": "ipython",
    "version": 3
   },
   "file_extension": ".py",
   "mimetype": "text/x-python",
   "name": "python",
   "nbconvert_exporter": "python",
   "pygments_lexer": "ipython3",
   "version": "3.7.0"
  }
 },
 "nbformat": 4,
 "nbformat_minor": 2
}
