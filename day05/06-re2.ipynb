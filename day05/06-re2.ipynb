{
 "cells": [
  {
   "cell_type": "markdown",
   "metadata": {},
   "source": [
    "# 正则表达式学习——符号表达式\n",
    "\n"
   ]
  },
  {
   "cell_type": "code",
   "execution_count": 3,
   "metadata": {},
   "outputs": [
    {
     "name": "stdout",
     "output_type": "stream",
     "text": [
      "['sdkdlsjdidklddl']\n"
     ]
    }
   ],
   "source": [
    "# 引入相应的包\n",
    "import re\n",
    "\n",
    "one = \"\"\"\n",
    "    msdkdlsjdidklddln\n",
    "    1234567945612356n\n",
    "\"\"\"\n",
    "# 目的查找 m 和 n 之间的字符\n",
    "pattern = re.compile('m(.*)n')\n",
    "# findall 返回是列表，match 是匹配\n",
    "result = pattern.findall(one)\n",
    "print(result)"
   ]
  },
  {
   "cell_type": "markdown",
   "metadata": {},
   "source": [
    "数字未匹配，原因在于 '.' 是除了 换行符\\n之外的匹配"
   ]
  },
  {
   "cell_type": "markdown",
   "metadata": {},
   "source": [
    "# 1 如要实现数字也匹配，需要 re.S  注意S 是大写"
   ]
  },
  {
   "cell_type": "code",
   "execution_count": 2,
   "metadata": {},
   "outputs": [
    {
     "name": "stdout",
     "output_type": "stream",
     "text": [
      "['sdkdlsjdidklddln\\n    1234567945612356']\n"
     ]
    }
   ],
   "source": [
    "pattern = re.compile('m(.*)n',re.S)\n",
    "result = pattern.findall(one)\n",
    "print(result)"
   ]
  },
  {
   "cell_type": "markdown",
   "metadata": {},
   "source": [
    "可以看到，成功的匹配出了数字，同时也注意换行符"
   ]
  },
  {
   "cell_type": "code",
   "execution_count": 4,
   "metadata": {},
   "outputs": [
    {
     "name": "stdout",
     "output_type": "stream",
     "text": [
      "小写变大写\n",
      " ['sdkdlsjdidklddl']\n"
     ]
    }
   ],
   "source": [
    "one1 = \"\"\"\n",
    "    msdkdlsjdidklddln\n",
    "    1234567945612356N\n",
    "\"\"\"\n",
    "# 将末尾的小写n 变为大写 N \n",
    "\n",
    "pattern = re.compile('m(.*)n',re.S)\n",
    "result = pattern.findall(one1)\n",
    "print('小写变大写\\n',result)"
   ]
  },
  {
   "cell_type": "markdown",
   "metadata": {},
   "source": [
    "# 可以发现数字并被匹配，原因在于正则是区分大小写的  那么如何避免呢  只需要忽略大小写 re.I"
   ]
  },
  {
   "cell_type": "code",
   "execution_count": 7,
   "metadata": {},
   "outputs": [
    {
     "name": "stdout",
     "output_type": "stream",
     "text": [
      "忽略大小写进行匹配\n",
      " ['sdkdlsjdidklddln\\n    1234567945612356']\n"
     ]
    }
   ],
   "source": [
    "pattern = re.compile('m(.*)n',re.S | re.I)\n",
    "result = pattern.findall(one1)\n",
    "print('忽略大小写进行匹配\\n',result)"
   ]
  },
  {
   "cell_type": "markdown",
   "metadata": {},
   "source": [
    "# 总结1：\n",
    "        re.S 忽略换行\n",
    "        re.I 忽略大小写\n"
   ]
  },
  {
   "cell_type": "markdown",
   "metadata": {},
   "source": [
    "# 2 纯数字正则 ‘\\d’ 0-9之间的数字"
   ]
  },
  {
   "cell_type": "code",
   "execution_count": 10,
   "metadata": {},
   "outputs": [],
   "source": [
    "# 声明一个正则项\n",
    "pattern = re.compile('\\d')\n",
    "\n",
    "one = '1234'"
   ]
  },
  {
   "cell_type": "markdown",
   "metadata": {},
   "source": [
    "# 对比一下不同匹配方法 findall ，match ，search"
   ]
  },
  {
   "cell_type": "code",
   "execution_count": 12,
   "metadata": {},
   "outputs": [
    {
     "name": "stdout",
     "output_type": "stream",
     "text": [
      "使用 findall 方法进行纯数字匹配：\n",
      " ['1', '2', '3', '4']\n"
     ]
    }
   ],
   "source": [
    "# 1  匹配的方法使用的是  findall\n",
    "\n",
    "result = pattern.findall(one)\n",
    "\n",
    "print('使用 findall 方法进行纯数字匹配：\\n',result)"
   ]
  },
  {
   "cell_type": "code",
   "execution_count": 13,
   "metadata": {},
   "outputs": [
    {
     "name": "stdout",
     "output_type": "stream",
     "text": [
      "使用 match 方法进行纯数字匹配：\n",
      " <re.Match object; span=(0, 1), match='1'>\n"
     ]
    }
   ],
   "source": [
    "# 2 匹配的方法使用是 match\n",
    "\n",
    "result = pattern.match(one)\n",
    "print('使用 match 方法进行纯数字匹配：\\n',result)"
   ]
  },
  {
   "cell_type": "code",
   "execution_count": 14,
   "metadata": {},
   "outputs": [
    {
     "name": "stdout",
     "output_type": "stream",
     "text": [
      "使用 match 方法进行纯数字匹配，使用 group 方法打印结果：\n",
      " 1\n"
     ]
    }
   ],
   "source": [
    "print('使用 match 方法进行纯数字匹配，使用 group 方法打印结果：\\n',result.group())"
   ]
  },
  {
   "cell_type": "markdown",
   "metadata": {},
   "source": [
    "结果 为1 match 方法是否匹配成功 从头开始 匹配一次"
   ]
  },
  {
   "cell_type": "code",
   "execution_count": 15,
   "metadata": {},
   "outputs": [
    {
     "ename": "AttributeError",
     "evalue": "'NoneType' object has no attribute 'group'",
     "output_type": "error",
     "traceback": [
      "\u001b[1;31m---------------------------------------------------------------------------\u001b[0m",
      "\u001b[1;31mAttributeError\u001b[0m                            Traceback (most recent call last)",
      "\u001b[1;32m<ipython-input-15-222192de2ded>\u001b[0m in \u001b[0;36m<module>\u001b[1;34m()\u001b[0m\n\u001b[0;32m      3\u001b[0m \u001b[0mresult\u001b[0m \u001b[1;33m=\u001b[0m \u001b[0mpattern\u001b[0m\u001b[1;33m.\u001b[0m\u001b[0mmatch\u001b[0m\u001b[1;33m(\u001b[0m\u001b[0mone2\u001b[0m\u001b[1;33m)\u001b[0m\u001b[1;33m\u001b[0m\u001b[0m\n\u001b[0;32m      4\u001b[0m \u001b[1;33m\u001b[0m\u001b[0m\n\u001b[1;32m----> 5\u001b[1;33m \u001b[0mprint\u001b[0m\u001b[1;33m(\u001b[0m\u001b[0mresult\u001b[0m\u001b[1;33m.\u001b[0m\u001b[0mgroup\u001b[0m\u001b[1;33m(\u001b[0m\u001b[1;33m)\u001b[0m\u001b[1;33m)\u001b[0m\u001b[1;33m\u001b[0m\u001b[0m\n\u001b[0m",
      "\u001b[1;31mAttributeError\u001b[0m: 'NoneType' object has no attribute 'group'"
     ]
    }
   ],
   "source": [
    "one2 = \"a234\"  #将第一个数字改为字符 看看结果  （结果报错）\n",
    "\n",
    "result = pattern.match(one2)\n",
    "\n",
    "print(result.group())"
   ]
  },
  {
   "cell_type": "markdown",
   "metadata": {},
   "source": [
    "报错原因  字符没有 group 属性  且match是从头开始匹配的\n"
   ]
  },
  {
   "cell_type": "code",
   "execution_count": 16,
   "metadata": {},
   "outputs": [
    {
     "name": "stdout",
     "output_type": "stream",
     "text": [
      "2\n"
     ]
    }
   ],
   "source": [
    "one3 = '234a'  #将字符放在末尾试试  匹配成功\n",
    "\n",
    "result = pattern.match(one3)\n",
    "\n",
    "print(result.group())"
   ]
  },
  {
   "cell_type": "markdown",
   "metadata": {},
   "source": [
    "打印第一个数字“2”，匹配成功"
   ]
  },
  {
   "cell_type": "markdown",
   "metadata": {},
   "source": [
    "# 上面的纯数字正则有问题，只能从头开始，也只判断开头，即匹配一次"
   ]
  },
  {
   "cell_type": "markdown",
   "metadata": {},
   "source": [
    "# 接下来判断从开头到结尾都是数字，不是只判断一次，应该是多次"
   ]
  },
  {
   "cell_type": "code",
   "execution_count": 17,
   "metadata": {},
   "outputs": [
    {
     "ename": "AttributeError",
     "evalue": "'NoneType' object has no attribute 'group'",
     "output_type": "error",
     "traceback": [
      "\u001b[1;31m---------------------------------------------------------------------------\u001b[0m",
      "\u001b[1;31mAttributeError\u001b[0m                            Traceback (most recent call last)",
      "\u001b[1;32m<ipython-input-17-ab0149868b39>\u001b[0m in \u001b[0;36m<module>\u001b[1;34m()\u001b[0m\n\u001b[0;32m      5\u001b[0m \u001b[0mresult\u001b[0m \u001b[1;33m=\u001b[0m \u001b[0mpattern\u001b[0m\u001b[1;33m.\u001b[0m\u001b[0mmatch\u001b[0m\u001b[1;33m(\u001b[0m\u001b[0mone3\u001b[0m\u001b[1;33m)\u001b[0m  \u001b[1;31m#先试试末尾为字符的情况\u001b[0m\u001b[1;33m\u001b[0m\u001b[0m\n\u001b[0;32m      6\u001b[0m \u001b[1;33m\u001b[0m\u001b[0m\n\u001b[1;32m----> 7\u001b[1;33m \u001b[0mprint\u001b[0m\u001b[1;33m(\u001b[0m\u001b[0mresult\u001b[0m\u001b[1;33m.\u001b[0m\u001b[0mgroup\u001b[0m\u001b[1;33m(\u001b[0m\u001b[1;33m)\u001b[0m\u001b[1;33m)\u001b[0m\u001b[1;33m\u001b[0m\u001b[0m\n\u001b[0m",
      "\u001b[1;31mAttributeError\u001b[0m: 'NoneType' object has no attribute 'group'"
     ]
    }
   ],
   "source": [
    "# 更改正则表达式\n",
    "# ? : 代表最多一次  * ： 代表任意次  + ： 代表至少一次\n",
    "# ^ ： 表示开头   $ : 表示结尾\n",
    "pattern = re.compile('^\\d+$')\n",
    "\n",
    "result = pattern.match(one3)  #先试试末尾为字符的情况\n",
    "\n",
    "print(result.group())"
   ]
  },
  {
   "cell_type": "markdown",
   "metadata": {},
   "source": [
    "执行程序结果报错，原因是匹配到字符了，字符没有 group 属性，所以这里无论是中间还是末尾都不能有 字符"
   ]
  },
  {
   "cell_type": "code",
   "execution_count": 18,
   "metadata": {},
   "outputs": [
    {
     "name": "stdout",
     "output_type": "stream",
     "text": [
      "1234\n"
     ]
    }
   ],
   "source": [
    "\n",
    "result = pattern.match(one)\n",
    "\n",
    "print(result.group())"
   ]
  },
  {
   "cell_type": "markdown",
   "metadata": {},
   "source": [
    "# 3 范围运算 有两种 [123]—或的关系，寻找到1或2或3  [1-9]匹配到区间的数字"
   ]
  },
  {
   "cell_type": "code",
   "execution_count": 21,
   "metadata": {},
   "outputs": [
    {
     "name": "stdout",
     "output_type": "stream",
     "text": [
      "匹配123中的任何一个数字，这里是或的关系\n",
      " ['3', '2']\n"
     ]
    }
   ],
   "source": [
    "two = '78934520'\n",
    "\n",
    "# 正则表达式\n",
    "pattern = re.compile('[123]')\n",
    "\n",
    "result = pattern.findall(two)\n",
    "\n",
    "print('匹配123中的任何一个数字，这里是或的关系\\n',result)  "
   ]
  },
  {
   "cell_type": "code",
   "execution_count": 22,
   "metadata": {},
   "outputs": [
    {
     "name": "stdout",
     "output_type": "stream",
     "text": [
      "['7', '8', '9', '3', '4', '5', '2']\n"
     ]
    }
   ],
   "source": [
    "pattern2 = re.compile('[1-9]')  #匹配除0以外的数字\n",
    "\n",
    "result = pattern2.findall(two)\n",
    "\n",
    "print(result)"
   ]
  },
  {
   "cell_type": "code",
   "execution_count": null,
   "metadata": {},
   "outputs": [],
   "source": []
  }
 ],
 "metadata": {
  "kernelspec": {
   "display_name": "Python 3",
   "language": "python",
   "name": "python3"
  },
  "language_info": {
   "codemirror_mode": {
    "name": "ipython",
    "version": 3
   },
   "file_extension": ".py",
   "mimetype": "text/x-python",
   "name": "python",
   "nbconvert_exporter": "python",
   "pygments_lexer": "ipython3",
   "version": "3.7.0"
  }
 },
 "nbformat": 4,
 "nbformat_minor": 2
}
